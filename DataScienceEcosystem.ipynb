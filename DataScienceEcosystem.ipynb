{
 "cells": [
  {
   "cell_type": "markdown",
   "id": "a16a5331",
   "metadata": {},
   "source": [
    "# Data Science Tools and Ecosystem"
   ]
  },
  {
   "cell_type": "markdown",
   "id": "4db61f93",
   "metadata": {},
   "source": [
    "In this notebook, Data Science Tools and Ecosystem are summarized."
   ]
  },
  {
   "attachments": {},
   "cell_type": "markdown",
   "id": "5aca4a68",
   "metadata": {},
   "source": [
    "**Objectives:**\n",
    "<ul>\n",
    "    <li> To list popular languages for Data Science </li>\n",
    "    <li> To list popular libraries used by Data Scientists </li>\n",
    "    <li> To list popular tools used for Data Science </li>\n",
    "    <li> To overview of basic arithmetic operations in Python </li>\n",
    "</ul>"
   ]
  },
  {
   "cell_type": "markdown",
   "id": "9de3bb10",
   "metadata": {},
   "source": [
    "Some of the popular languages that Data Scientists use are:\n",
    "<ol>\n",
    "    <li> Python </li>\n",
    "    <li> R </li>\n",
    "    <li> Julia </li>\n",
    "    <li> Scala </li>\n",
    "    <li> SQL </li>\n",
    "</ol>"
   ]
  },
  {
   "cell_type": "markdown",
   "id": "1df80d95",
   "metadata": {},
   "source": [
    "Some of the commonly used libraries used by Data Scientists include:\n",
    "<ol>\n",
    "    <li> Numpy </li>\n",
    "    <li> Pandas </li>\n",
    "    <li> Matplotlib </li>\n",
    "    <li> Scrapy </li>\n",
    "    <li> ggplot </li>\n",
    "<ol>"
   ]
  },
  {
   "cell_type": "markdown",
   "id": "88af73af",
   "metadata": {},
   "source": [
    "<table>\n",
    "    <tr><th> Data Science Tools <th><tr>\n",
    "        <tr><td> Jupyter Notebook <td><tr>\n",
    "        <tr><td> R Studio <td><tr>\n",
    "        <tr><td> Apache Zepplin <td><tr>\n",
    "<table>"
   ]
  },
  {
   "cell_type": "markdown",
   "id": "1cd18af0",
   "metadata": {},
   "source": [
    "### Below are a few examples of evaluating arithmetic expressions in Python"
   ]
  },
  {
   "cell_type": "code",
   "execution_count": 6,
   "id": "d7ca1f06",
   "metadata": {},
   "outputs": [
    {
     "data": {
      "text/plain": [
       "17"
      ]
     },
     "execution_count": 6,
     "metadata": {},
     "output_type": "execute_result"
    }
   ],
   "source": [
    "# This a simple arithmetic expression to mutiply then add integers\n",
    "(3*4)+5"
   ]
  },
  {
   "cell_type": "code",
   "execution_count": 7,
   "id": "5be43bb2",
   "metadata": {},
   "outputs": [
    {
     "data": {
      "text/plain": [
       "3.3333333333333335"
      ]
     },
     "execution_count": 7,
     "metadata": {},
     "output_type": "execute_result"
    }
   ],
   "source": [
    "# This will convert 200 minutes to hours by diving by 60\n",
    "t_minutes = 200\n",
    "t_hours = t_minutes/60\n",
    "t_hours"
   ]
  },
  {
   "cell_type": "markdown",
   "id": "ff88211a",
   "metadata": {},
   "source": [
    "## Author\n",
    "Hemant Kumar"
   ]
  }
 ],
 "metadata": {
  "kernelspec": {
   "display_name": "Python 3 (ipykernel)",
   "language": "python",
   "name": "python3"
  },
  "language_info": {
   "codemirror_mode": {
    "name": "ipython",
    "version": 3
   },
   "file_extension": ".py",
   "mimetype": "text/x-python",
   "name": "python",
   "nbconvert_exporter": "python",
   "pygments_lexer": "ipython3",
   "version": "3.11.4"
  }
 },
 "nbformat": 4,
 "nbformat_minor": 5
}
